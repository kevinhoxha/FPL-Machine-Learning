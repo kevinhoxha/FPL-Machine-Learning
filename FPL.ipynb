{
  "nbformat": 4,
  "nbformat_minor": 0,
  "metadata": {
    "colab": {
      "name": "FPL.ipynb",
      "provenance": [],
      "collapsed_sections": [],
      "include_colab_link": true
    },
    "kernelspec": {
      "name": "python3",
      "display_name": "Python 3"
    },
    "accelerator": "GPU"
  },
  "cells": [
    {
      "cell_type": "markdown",
      "metadata": {
        "id": "view-in-github",
        "colab_type": "text"
      },
      "source": [
        "<a href=\"https://colab.research.google.com/github/kevinhoxha/FPL-Machine-Learning/blob/master/FPL.ipynb\" target=\"_parent\"><img src=\"https://colab.research.google.com/assets/colab-badge.svg\" alt=\"Open In Colab\"/></a>"
      ]
    },
    {
      "cell_type": "code",
      "metadata": {
        "id": "jbc3kRvwLgfM"
      },
      "source": [
        "from keras import models\n",
        "from keras import layers\n",
        "from keras import losses\n",
        "from keras import metrics\n",
        "from keras import optimizers\n",
        "from google.colab import files\n",
        "import pandas as pd\n",
        "import numpy as np\n",
        "import tensorflow as tf\n",
        "import matplotlib.pyplot as plt\n",
        "\n",
        "def drop_non_features(dfs, columns):\n",
        "  for df in dfs:\n",
        "    for col in columns:\n",
        "      df.drop(col, axis=1, inplace=True)\n",
        "\n",
        "def normalize_feature(train_df, feature):\n",
        "  mean = train_df[feature].mean(axis=0)\n",
        "  std = train_df[feature].std(axis=0)\n",
        "  train_df[feature] -= mean\n",
        "  train_df[feature] /= std\n",
        "\n",
        "def build_model():\n",
        "    model = models.Sequential()\n",
        "    model.add(layers.Dense(64, activation='relu', input_shape=(train_df.shape[1],)))\n",
        "    model.add(layers.Dense(64, activation='relu'))\n",
        "    model.add(layers.Dense(1))\n",
        "    model.compile(optimizer='rmsprop', loss='mse', metrics=['mae'])\n",
        "    return model\n",
        "\n",
        "def smooth_curve(points, factor=0.9):\n",
        "  smoothed_points = []\n",
        "  for point in points:\n",
        "    if smoothed_points:\n",
        "      previous = smoothed_points[-1]\n",
        "      smoothed_points.append(previous * factor + point * (1 - factor))\n",
        "    else:\n",
        "      smoothed_points.append(point)\n",
        "  return smoothed_points\n",
        "\n",
        "def train_model(train_url):\n",
        "  raw_train_df = pd.read_csv(train_url, error_bad_lines=True, skiprows=0)\n",
        "  train_df = raw_train_df[raw_train_df.actual_minutes > 0.0] #remove players on the bench\n",
        "  train_df = train_df[train_df.position > 2.0] #mid-field and attackers only\n",
        "  drop_non_features([train_df], [\"avg_ict_index\", \"avg_bonus\", \"avg_opponent_team\", \"avg_value\", \"position\"\n",
        "  #\"avg_assists\", \"avg_bps\",\t\"avg_clean_sheets\",\t\"avg_creativity\",\t\"avg_goals_conceded\",\t\"avg_goals_scored\",\t\"avg_influence\",\t\n",
        "  #\"avg_minutes\",\t\"avg_own_goals\",\t\"avg_penalties_missed\",\t\"avg_penalties_saved\",\t\"avg_red_cards\",\t\"avg_saves\",\t\"avg_threat\",\t\n",
        "  #\"avg_total_points\",\t\"was_home\",\t\"avg_yellow_cards\"\n",
        "  ])\n",
        "  normalize_feature(train_df, \"avg_bps\")\n",
        "  normalize_feature(train_df, \"avg_creativity\")\n",
        "  normalize_feature(train_df, \"avg_influence\")\n",
        "  normalize_feature(train_df, \"avg_threat\")\n",
        "  normalize_feature(train_df, \"avg_total_points\")\n",
        "  train_df[\"avg_minutes\"] /= 90\n",
        "  train_targets = train_df.pop(\"actual_points\")\n",
        "  print(train_df.shape)\n",
        "\n",
        "  k = 4\n",
        "  num_val_samples = len(train_df) // k\n",
        "  num_epochs = 500\n",
        "  all_mae_histories = []\n",
        "  for i in range(k):\n",
        "    val_data = train_df[i * num_val_samples: (i + 1) * num_val_samples]\n",
        "    val_targets = train_targets[i * num_val_samples: (i + 1) * num_val_samples]\n",
        "    partial_train_data = np.concatenate(\n",
        "        [train_df[:i * num_val_samples],\n",
        "         train_df[(i + 1) * num_val_samples:]],\n",
        "        axis=0)\n",
        "    partial_train_targets = np.concatenate(\n",
        "        [train_targets[:i * num_val_samples],\n",
        "         train_targets[(i + 1) * num_val_samples:]],\n",
        "        axis=0)\n",
        "\n",
        "    model = build_model()\n",
        "    print(\"Processing fold #%d, train data: %d x %d\" %(i, partial_train_data.shape[0], partial_train_data.shape[1]))\n",
        "    history = model.fit(partial_train_data, partial_train_targets,\n",
        "                        validation_data=(val_data, val_targets),\n",
        "                        epochs=num_epochs, batch_size=64, verbose=0, use_multiprocessing=True)\n",
        "    mae_history = history.history['val_mae']\n",
        "    all_mae_histories.append(mae_history)\n",
        "    \n",
        "  average_mae_history = [np.mean([x[i] for x in all_mae_histories]) for i in range(num_epochs)]\n",
        "  return average_mae_history"
      ],
      "execution_count": null,
      "outputs": []
    },
    {
      "cell_type": "code",
      "metadata": {
        "id": "r5lSn_5v8WQc",
        "outputId": "2a746564-c7a2-4a63-d6da-22784339d0f0",
        "colab": {
          "base_uri": "https://localhost:8080/",
          "height": 272
        }
      },
      "source": [
        "train_url_2 = 'https://github.com/kevinhoxha/FPL-Machine-Learning/blob/master/data/training/ma2_all.csv?raw=true'\n",
        "avg_mae_hist_2 = train_model(train_url_2)\n",
        "\n",
        "train_url_3 = 'https://github.com/kevinhoxha/FPL-Machine-Learning/blob/master/data/training/ma3_all.csv?raw=true'\n",
        "avg_mae_hist_3 = train_model(train_url_3)\n",
        "\n",
        "train_url_4 = 'https://github.com/kevinhoxha/FPL-Machine-Learning/blob/master/data/training/ma4_all.csv?raw=true'\n",
        "avg_mae_hist_4 = train_model(train_url_4)\n"
      ],
      "execution_count": null,
      "outputs": [
        {
          "output_type": "stream",
          "text": [
            "(16680, 18)\n",
            "Processing fold #0, train data: 12510 x 18\n",
            "Processing fold #1, train data: 12510 x 18\n",
            "Processing fold #2, train data: 12510 x 18\n",
            "Processing fold #3, train data: 12510 x 18\n",
            "(16483, 18)\n",
            "Processing fold #0, train data: 12363 x 18\n",
            "Processing fold #1, train data: 12363 x 18\n",
            "Processing fold #2, train data: 12363 x 18\n",
            "Processing fold #3, train data: 12363 x 18\n",
            "(16288, 18)\n",
            "Processing fold #0, train data: 12216 x 18\n",
            "Processing fold #1, train data: 12216 x 18\n",
            "Processing fold #2, train data: 12216 x 18\n",
            "Processing fold #3, train data: 12216 x 18\n"
          ],
          "name": "stdout"
        }
      ]
    },
    {
      "cell_type": "code",
      "metadata": {
        "id": "1BWnHmcUrdOR",
        "outputId": "83d22a86-bcee-4cd8-c3d4-cf725ddb1e3d",
        "colab": {
          "base_uri": "https://localhost:8080/",
          "height": 279
        }
      },
      "source": [
        "smooth_mae_history_2 = smooth_curve(avg_mae_hist_2[10:])\n",
        "smooth_mae_history_3 = smooth_curve(avg_mae_hist_3[10:])\n",
        "smooth_mae_history_4 = smooth_curve(avg_mae_hist_4[10:])\n",
        "\n",
        "plt.plot(range(1, len(smooth_mae_history_2) + 1), smooth_mae_history_2, label='2-game Moving Avg', color='tab:blue')\n",
        "plt.plot(range(1, len(smooth_mae_history_3) + 1), smooth_mae_history_3, label='3-game Moving Avg', color='tab:red')\n",
        "plt.plot(range(1, len(smooth_mae_history_4) + 1), smooth_mae_history_4, label='4-game Moving Avg', color='tab:green')\n",
        "plt.xlabel('Epochs')\n",
        "plt.ylabel('Validation MAE')\n",
        "plt.legend()\n",
        "plt.show()"
      ],
      "execution_count": null,
      "outputs": [
        {
          "output_type": "display_data",
          "data": {
            "image/png": "[encoded data removed]",
            "text/plain": [
              "<Figure size 432x288 with 1 Axes>"
            ]
          },
          "metadata": {
            "tags": [],
            "needs_background": "light"
          }
        }
      ]
    },
    {
      "cell_type": "code",
      "metadata": {
        "id": "Deq-hCwLIx1f",
        "outputId": "dbd3e9a4-85bb-41b4-bba6-f746702b4185",
        "colab": {
          "base_uri": "https://localhost:8080/",
          "height": 103
        }
      },
      "source": [
        "\"\"\"\n",
        "history_dict = history.history\n",
        "\n",
        "loss_values = history_dict['loss']\n",
        "val_loss_values = history_dict['val_loss']\n",
        "mae_values = history_dict['mae']\n",
        "val_mae_values = history_dict['val_mae']\n",
        "\n",
        "epochs = range(1, len(mae_values) + 1)\n",
        "\n",
        "fig, axs = plt.subplots(2, sharex=True, sharey=False, gridspec_kw={'hspace': 0})\n",
        "\n",
        "color = 'tab:red'\n",
        "axs[1].plot(epochs, loss_values, 'bo', label='Training', color=color)\n",
        "axs[1].plot(epochs, val_loss_values, 'b', label='Validation', color=color)\n",
        "axs[1].set_ylabel('Loss')\n",
        "axs[1].set_xlabel('Epochs')\n",
        "axs[1].legend()\n",
        "\n",
        "color = 'tab:blue'\n",
        "axs[0].plot(epochs, mae_values, 'bo', label='Training', color=color)\n",
        "axs[0].plot(epochs, val_mae_values, 'b', label='Validation', color=color)\n",
        "axs[0].set_ylabel('MAE')\n",
        "axs[0].legend()\n",
        "\n",
        "plt.show()\n",
        "\n",
        "np.mean(mae_values)\n",
        "\"\"\""
      ],
      "execution_count": null,
      "outputs": [
        {
          "output_type": "execute_result",
          "data": {
            "application/vnd.google.colaboratory.intrinsic+json": {
              "type": "string"
            },
            "text/plain": [
              "\"\\nhistory_dict = history.history\\n\\nloss_values = history_dict['loss']\\nval_loss_values = history_dict['val_loss']\\nmae_values = history_dict['mae']\\nval_mae_values = history_dict['val_mae']\\n\\nepochs = range(1, len(mae_values) + 1)\\n\\nfig, axs = plt.subplots(2, sharex=True, sharey=False, gridspec_kw={'hspace': 0})\\n\\ncolor = 'tab:red'\\naxs[1].plot(epochs, loss_values, 'bo', label='Training', color=color)\\naxs[1].plot(epochs, val_loss_values, 'b', label='Validation', color=color)\\naxs[1].set_ylabel('Loss')\\naxs[1].set_xlabel('Epochs')\\naxs[1].legend()\\n\\ncolor = 'tab:blue'\\naxs[0].plot(epochs, mae_values, 'bo', label='Training', color=color)\\naxs[0].plot(epochs, val_mae_values, 'b', label='Validation', color=color)\\naxs[0].set_ylabel('MAE')\\naxs[0].legend()\\n\\nplt.show()\\n\\nnp.mean(mae_values)\\n\""
            ]
          },
          "metadata": {
            "tags": []
          },
          "execution_count": 31
        }
      ]
    },
    {
      "cell_type": "code",
      "metadata": {
        "id": "Pb6fPGS8n_L2",
        "outputId": "565a056e-6f25-4063-afa4-8cafd61a566a",
        "colab": {
          "base_uri": "https://localhost:8080/",
          "height": 35
        }
      },
      "source": [
        "\"\"\"\n",
        "start = 1000\n",
        "end = 1005\n",
        "print(model.predict(train_df[start:end]))\n",
        "print(train_targets[start:end])\n",
        "\"\"\""
      ],
      "execution_count": null,
      "outputs": [
        {
          "output_type": "execute_result",
          "data": {
            "application/vnd.google.colaboratory.intrinsic+json": {
              "type": "string"
            },
            "text/plain": [
              "'\\nstart = 1000\\nend = 1005\\nprint(model.predict(train_df[start:end]))\\nprint(train_targets[start:end])\\n'"
            ]
          },
          "metadata": {
            "tags": []
          },
          "execution_count": 32
        }
      ]
    }
  ]
}