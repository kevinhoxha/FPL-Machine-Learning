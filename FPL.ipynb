{
  "nbformat": 4,
  "nbformat_minor": 0,
  "metadata": {
    "colab": {
      "name": "FPL.ipynb",
      "provenance": [],
      "collapsed_sections": [],
      "include_colab_link": true
    },
    "kernelspec": {
      "name": "python3",
      "display_name": "Python 3"
    }
  },
  "cells": [
    {
      "cell_type": "markdown",
      "metadata": {
        "id": "view-in-github",
        "colab_type": "text"
      },
      "source": [
        "<a href=\"https://colab.research.google.com/github/kevinhoxha/FPL-Machine-Learning/blob/master/FPL.ipynb\" target=\"_parent\"><img src=\"https://colab.research.google.com/assets/colab-badge.svg\" alt=\"Open In Colab\"/></a>"
      ]
    },
    {
      "cell_type": "code",
      "metadata": {
        "id": "jbc3kRvwLgfM",
        "colab_type": "code",
        "colab": {
          "base_uri": "https://localhost:8080/",
          "height": 34
        },
        "outputId": "a458a2e1-26bc-43e5-fb69-0c85bf878038"
      },
      "source": [
        "from keras import models\n",
        "from keras import layers\n",
        "from keras import losses\n",
        "from keras import metrics\n",
        "from keras import optimizers\n",
        "import pandas as pd\n",
        "import numpy as np\n",
        "import tensorflow as tf\n",
        "import matplotlib.pyplot as plt\n",
        "\n",
        "def drop_non_features(dfs, columns):\n",
        "  for df in dfs:\n",
        "    for col in columns:\n",
        "      df.drop(col, axis=1, inplace=True)\n",
        "\n",
        "def normalize_feature(train_df, test_df, feature):\n",
        "  mean = train_df[feature].mean(axis=0)\n",
        "  std = train_df[feature].std(axis=0)\n",
        "  train_df[feature] -= mean\n",
        "  train_df[feature] /= std\n",
        "  test_df[feature] -= mean\n",
        "  test_df[feature] /= std\n",
        "\n",
        "def build_model():\n",
        "    model = models.Sequential()\n",
        "    model.add(layers.Dense(64, activation='relu', input_shape=(train_df.shape[1],)))\n",
        "    model.add(layers.Dense(64, activation='relu'))\n",
        "    model.add(layers.Dense(1))\n",
        "    model.compile(optimizer='rmsprop', loss='mse', metrics=['mae'])\n",
        "    return model\n",
        "\n",
        "def smooth_curve(points, factor=0.9):\n",
        "  smoothed_points = []\n",
        "  for point in points:\n",
        "    if smoothed_points:\n",
        "      previous = smoothed_points[-1]\n",
        "      smoothed_points.append(previous * factor + point * (1 - factor))\n",
        "    else:\n",
        "      smoothed_points.append(point)\n",
        "  return smoothed_points\n",
        "\n",
        "train_url = 'https://github.com/kevinhoxha/FPL-Machine-Learning/blob/master/data/training/ma6_train.csv?raw=true'\n",
        "test_url = 'https://github.com/kevinhoxha/FPL-Machine-Learning/blob/master/data/training/ma6_test.csv?raw=true'\n",
        "raw_train_df = pd.read_csv(train_url, error_bad_lines=True, skiprows=0)\n",
        "raw_test_df = pd.read_csv(test_url, error_bad_lines=True, skiprows=0)"
      ],
      "execution_count": 1,
      "outputs": [
        {
          "output_type": "stream",
          "text": [
            "Using TensorFlow backend.\n"
          ],
          "name": "stderr"
        }
      ]
    },
    {
      "cell_type": "code",
      "metadata": {
        "id": "HYpdWQOqFTSs",
        "colab_type": "code",
        "colab": {}
      },
      "source": [
        "train_df = raw_train_df[raw_train_df.avg_minutes > 0.0] #remove players on the bench\n",
        "test_df = raw_test_df[raw_test_df.avg_minutes > 0.0] #remove players on the bench\n",
        "\n",
        "train_df = train_df[train_df.position > 2.0] #remove defenders and goalies\n",
        "test_df = test_df[test_df.position > 2.0] #remove defenders and goalies\n",
        "\n",
        "drop_non_features([train_df, test_df], [\"avg_ict_index\", \"avg_bonus\", \"avg_opponent_team\", \"avg_value\", \"position\"\n",
        "#\"avg_assists\", \"avg_bps\",\t\"avg_clean_sheets\",\t\"avg_creativity\",\t\"avg_goals_conceded\",\t\"avg_goals_scored\",\t\"avg_influence\",\t\n",
        "#\"avg_minutes\",\t\"avg_own_goals\",\t\"avg_penalties_missed\",\t\"avg_penalties_saved\",\t\"avg_red_cards\",\t\"avg_saves\",\t\"avg_threat\",\t\n",
        "#\"avg_total_points\",\t\"was_home\",\t\"avg_yellow_cards\"\n",
        "])\n",
        "\n",
        "normalize_feature(train_df, test_df, \"avg_bps\")\n",
        "normalize_feature(train_df, test_df, \"avg_creativity\")\n",
        "normalize_feature(train_df, test_df, \"avg_influence\")\n",
        "normalize_feature(train_df, test_df, \"avg_threat\")\n",
        "normalize_feature(train_df, test_df, \"avg_total_points\")\n",
        "train_df[\"avg_minutes\"] /= 90\n",
        "test_df[\"avg_minutes\"] /= 90\n",
        "\n",
        "train_targets = train_df.pop(\"actual_points\")\n",
        "test_targets = test_df.pop(\"actual_points\")\n",
        "\n",
        "#train_df"
      ],
      "execution_count": 2,
      "outputs": []
    },
    {
      "cell_type": "code",
      "metadata": {
        "id": "P7sbB-9lIlnE",
        "colab_type": "code",
        "colab": {
          "base_uri": "https://localhost:8080/",
          "height": 34
        },
        "outputId": "03987233-902e-4418-a09f-87129000c43d"
      },
      "source": [
        "#model = build_model()\n",
        "#history = model.fit(train_df.values, train_target.values,\n",
        "#                    epochs=16, batch_size=64,\n",
        "#                    validation_data=(test_df.values, test_target.values), verbose=0)\n",
        "\n",
        "k = 4\n",
        "num_val_samples = len(train_df) // k\n",
        "num_epochs = 500\n",
        "all_mae_histories = []\n",
        "for i in range(k):\n",
        "    print('processing fold #', i)\n",
        "    val_data = train_df[i * num_val_samples: (i + 1) * num_val_samples]\n",
        "    val_targets = train_targets[i * num_val_samples: (i + 1) * num_val_samples]\n",
        "    partial_train_data = np.concatenate(\n",
        "        [train_df[:i * num_val_samples],\n",
        "         train_df[(i + 1) * num_val_samples:]],\n",
        "        axis=0)\n",
        "    partial_train_targets = np.concatenate(\n",
        "        [train_targets[:i * num_val_samples],\n",
        "         train_targets[(i + 1) * num_val_samples:]],\n",
        "        axis=0)\n",
        "\n",
        "    model = build_model()\n",
        "    history = model.fit(partial_train_data, partial_train_targets,\n",
        "                        validation_data=(val_data, val_targets),\n",
        "                        epochs=num_epochs, batch_size=10, verbose=0)\n",
        "    mae_history = history.history['val_mae']\n",
        "    all_mae_histories.append(mae_history)\n",
        "    \n",
        "average_mae_history = [np.mean([x[i] for x in all_mae_histories]) for i in range(num_epochs)]\n",
        "print(average_mae_history)\n",
        "print(np.mean(average_mae_history))"
      ],
      "execution_count": null,
      "outputs": [
        {
          "output_type": "stream",
          "text": [
            "processing fold # 0\n"
          ],
          "name": "stdout"
        }
      ]
    },
    {
      "cell_type": "code",
      "metadata": {
        "id": "1BWnHmcUrdOR",
        "colab_type": "code",
        "colab": {}
      },
      "source": [
        "plt.plot(range(1, len(average_mae_history) + 1), average_mae_history)\n",
        "plt.xlabel('Epochs')\n",
        "plt.ylabel('Validation MAE')\n",
        "plt.show()"
      ],
      "execution_count": null,
      "outputs": []
    },
    {
      "cell_type": "code",
      "metadata": {
        "id": "Deq-hCwLIx1f",
        "colab_type": "code",
        "colab": {}
      },
      "source": [
        "history_dict = history.history\n",
        "\n",
        "loss_values = history_dict['loss']\n",
        "val_loss_values = history_dict['val_loss']\n",
        "mae_values = history_dict['mae']\n",
        "val_mae_values = history_dict['val_mae']\n",
        "\n",
        "epochs = range(1, len(mae_values) + 1)\n",
        "\n",
        "fig, axs = plt.subplots(2, sharex=True, sharey=False, gridspec_kw={'hspace': 0})\n",
        "\n",
        "color = 'tab:red'\n",
        "axs[1].plot(epochs, loss_values, 'bo', label='Training', color=color)\n",
        "#axs[1].plot(epochs, val_loss_values, 'b', label='Validation', color=color)\n",
        "axs[1].set_ylabel('Loss')\n",
        "axs[1].set_xlabel('Epochs')\n",
        "axs[1].legend()\n",
        "\n",
        "color = 'tab:blue'\n",
        "axs[0].plot(epochs, mae_values, 'bo', label='Training', color=color)\n",
        "#axs[0].plot(epochs, val_mae_values, 'b', label='Validation', color=color)\n",
        "axs[0].set_ylabel('MAE')\n",
        "axs[0].legend()\n",
        "\n",
        "plt.show()\n",
        "\n",
        "np.mean(mae_values)"
      ],
      "execution_count": null,
      "outputs": []
    },
    {
      "cell_type": "code",
      "metadata": {
        "id": "Pb6fPGS8n_L2",
        "colab_type": "code",
        "colab": {}
      },
      "source": [
        "start = 1000\n",
        "end = 1005\n",
        "print(model.predict(train_df[start:end]))\n",
        "print(train_target[start:end])"
      ],
      "execution_count": null,
      "outputs": []
    }
  ]
}